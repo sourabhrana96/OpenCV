{
 "cells": [
  {
   "cell_type": "code",
   "execution_count": 2,
   "metadata": {
    "collapsed": false
   },
   "outputs": [
    {
     "data": {
      "text/plain": [
       "True"
      ]
     },
     "execution_count": 2,
     "metadata": {},
     "output_type": "execute_result"
    }
   ],
   "source": [
    "from __future__ import division\n",
    "import cv2\n",
    "from matplotlib import pyplot as plt\n",
    "import numpy as np\n",
    "from math import cos,sin\n",
    "\n",
    "green=(0,255,0)\n",
    "\n",
    "def show(image):\n",
    "    #size in inches\n",
    "    plt.figure(figsize=(10,10))\n",
    "    plt.imshow(image,interpolation='nearest')\n",
    "    \n",
    "def overlay_mask(mask,image):\n",
    "    rgb_mask=cv2.cvtColor(mask,cv2.COLOR_GRAY2RGB)\n",
    "    \n",
    "    img=cv2.addWeighted(rgb_mask,0.5,image,0.5,0)\n",
    "    return img\n",
    "\n",
    "def find_biggest_contour(image):\n",
    "    #copy image\n",
    "    image=image.copy()\n",
    "    _,contours,heirarchy=cv2.findContours(image,cv2.RETR_LIST,cv2.CHAIN_APPROX_SIMPLE)\n",
    "    \n",
    "    #largest contours\n",
    "    contour_sizes=[(cv2.contourArea(contour),contour) for contour in contours]\n",
    "    biggest_contour=max(contour_sizes,key=lambda x: x[0])[1]\n",
    "\n",
    "    #return biggest contour\n",
    "    mask=np.zeros(image.shape,np.uint8)\n",
    "    cv2.drawContours(mask,[biggest_contour],-1,255,-1)\n",
    "    return biggest_contour,mask\n",
    "\n",
    "def circle_contour(image,contour):\n",
    "    #bounding ellipse\n",
    "    image_with_ellipse=image.copy()\n",
    "    ellipse=cv2.fitEllipse(contour)\n",
    "    #add it\n",
    "    cv2.ellipse(image_with_ellipse,ellipse,green,2,cv2.LINE_AA)\n",
    "    return image_with_ellipse\n",
    "\n",
    "\n",
    "def find_strawberry(image):\n",
    "    #converting image to correct color scheme\n",
    "    image=cv2.cvtColor(image,cv2.COLOR_BGR2RGB)\n",
    "    \n",
    "    #scale our image properly\n",
    "    max_dimension=max(image.shape)\n",
    "    scale=700/max_dimension\n",
    "    image=cv2.resize(image,None,fx=scale,fy=scale)\n",
    "    \n",
    "    #clean our image\n",
    "    image_blur=cv2.GaussianBlur(image,(7,7),0)\n",
    "    image_blur_hsv=cv2.cvtColor(image_blur,cv2.COLOR_RGB2HSV)\n",
    "    \n",
    "    #define filters \n",
    "    #filter by color\n",
    "    min_red=np.array([0,100,80])\n",
    "    max_red=np.array([10,256,256])\n",
    "    \n",
    "    mask1 =cv2.inRange(image_blur_hsv,min_red,max_red)\n",
    "    #filter by brightness\n",
    "    min_red2=np.array([170,100,80])\n",
    "    max_red2=np.array([180,256,256])\n",
    "    \n",
    "    mask2=cv2.inRange(image_blur_hsv,min_red2,max_red2)\n",
    "    \n",
    "    #combine mask\n",
    "    mask=mask1+mask2\n",
    "    \n",
    "    #segmentation\n",
    "    kernel=cv2.getStructuringElement(cv2.MORPH_ELLIPSE,(15,15))\n",
    "    mask_closed=cv2.morphologyEx(mask,cv2.MORPH_CLOSE,kernel)\n",
    "    mask_clean=cv2.morphologyEx(mask_closed,cv2.MORPH_OPEN,kernel)\n",
    "    \n",
    "    #finding biggest strawberries\n",
    "    big_strawberry_contour, mask_strawberries= find_biggest_contour(mask_clean)\n",
    "    \n",
    "    #overlay the mask\n",
    "    overlay=overlay_mask(mask_clean,image)\n",
    "    \n",
    "    #circle the biggest strawberry\n",
    "    circled=circle_contour(overlay,big_strawberry_contour)\n",
    "    show(circled)\n",
    "    \n",
    "    #convert back to original color \n",
    "    bgr=cv2.cvtColor(circled,cv2.COLOR_RGB2BGR)\n",
    "    \n",
    "    return bgr\n",
    "\n",
    "#read the image\n",
    "image=cv2.imread('strawberry.jpg')\n",
    "result= find_strawberry(image)\n",
    "\n",
    "cv2.imwrite('berry1.jpg',result)\n",
    "    "
   ]
  },
  {
   "cell_type": "code",
   "execution_count": null,
   "metadata": {
    "collapsed": true
   },
   "outputs": [],
   "source": []
  }
 ],
 "metadata": {
  "kernelspec": {
   "display_name": "Python 2",
   "language": "python",
   "name": "python2"
  },
  "language_info": {
   "codemirror_mode": {
    "name": "ipython",
    "version": 2
   },
   "file_extension": ".py",
   "mimetype": "text/x-python",
   "name": "python",
   "nbconvert_exporter": "python",
   "pygments_lexer": "ipython2",
   "version": "2.7.14"
  }
 },
 "nbformat": 4,
 "nbformat_minor": 2
}
